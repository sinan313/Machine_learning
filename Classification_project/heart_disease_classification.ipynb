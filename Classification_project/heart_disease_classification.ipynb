{
 "cells": [
  {
   "cell_type": "markdown",
   "id": "5c2dc8aa",
   "metadata": {},
   "source": [
    "# Predicting heart disease\n",
    "\n",
    "In this project given the data we are predicting whether the patient has heart\n",
    "disease or not"
   ]
  },
  {
   "cell_type": "markdown",
   "id": "cfb8f0c8",
   "metadata": {},
   "source": [
    "## 1. Problem definition\n",
    "\n",
    "> Given clinical report of a patient we have to predict whether the patient has \n",
    "heart disease or not"
   ]
  },
  {
   "cell_type": "markdown",
   "id": "6b03d48e",
   "metadata": {},
   "source": [
    "## 2. Data\n",
    "\n",
    "Original data came from uci machine learning repository\n",
    "\n",
    "This dataset is taken from kaggle: https://www.kaggle.com/datasets/sumaiyatasmeem/heart-disease-classification-dataset"
   ]
  },
  {
   "cell_type": "markdown",
   "id": "23176be2",
   "metadata": {},
   "source": [
    "## 3. Evaluation\n",
    "\n",
    "> If we have accuracy of more than 95% then we can pursue on this project"
   ]
  },
  {
   "cell_type": "markdown",
   "id": "49aaccae",
   "metadata": {},
   "source": [
    "## 4. Features\n",
    "\n",
    "* age: Displays the age of the individual.\n",
    "\n",
    "* sex: Displays the gender of the individual using the following format : 1 = male 0 = female\n",
    "\n",
    "* Chest-pain type: displays the type of chest-pain experienced by the individual using the following format : 0 = typical angina 1 = atypical angina 2 = non — anginal pain 3 = asymptotic\n",
    "\n",
    "* trestbps- Resting Blood Pressure: displays the resting blood pressure value of an individual in mmHg (unit). anything above 130-140 is typically cause for concern.\n",
    "\n",
    "* chol- Serum Cholestrol: displays the serum cholesterol in mg/dl (unit)\n",
    "\n",
    "* fbs- Fasting Blood Sugar: compares the fasting blood sugar value of an individual with 120mg/dl. If fasting blood sugar > 120mg/dl then : 1 (true) else : 0 (false) '>126' mg/dL signals diabetes\n",
    "\n",
    "* restecg- Resting ECG : displays resting electrocardiographic results 0 = normal 1 = having ST-T wave abnormality 2 = left ventricular hyperthrophy\n",
    "\n",
    "* Max heart rate achieved : displays the max heart rate achieved by an individual.\n",
    "    \n",
    "* exang- Exercise induced angina : 1 = yes 0 = no\n",
    "\n",
    "* oldpeak- ST depression induced by exercise relative to rest: displays the value which is an integer or float.\n",
    "\n",
    "* slope- Slope of the peak exercise ST segment : 0 = upsloping: better heart rate with excercise (uncommon) 1 = flat: minimal change (typical healthy heart) 2 = downsloping: signs of unhealthy heart\n",
    "\n",
    "* ca- Number of major vessels (0–3) colored by flourosopy : displays the value as integer or float.\n",
    "\n",
    "* thalassemia : 1,3 = normal 6 = fixed defect 7 = reversible defect: no proper blood movement when excercising\n",
    "\n",
    "* target : Displays whether the individual is suffering from heart disease or not : 1 = yes 0 = no"
   ]
  },
  {
   "cell_type": "code",
   "execution_count": 1,
   "id": "99620f19",
   "metadata": {},
   "outputs": [],
   "source": [
    "# Importing all the tools we need\n",
    "\n",
    "# Regular EDA(exploatary data analysis) and plotting libraries\n",
    "import numpy as np\n",
    "import pandas as pd\n",
    "import matplotlib.pyplot as plt\n",
    "import seaborn as sns\n",
    "\n",
    "%matplotlib inline\n",
    "\n",
    "# Models from scikit learn\n",
    "from sklearn.linear_model import LogisticRegression\n",
    "from sklearn.neighbors import KNeighborsClassifier\n",
    "from sklearn.ensemble import RandomForestClassifier\n",
    "\n",
    "# Model Evaluations\n",
    "from sklearn.model_selection import train_test_split, cross_val_score\n",
    "from sklearn.model_selection import RandomizedSearchCV, GridSearchCV\n",
    "from sklearn.metrics import classification_report, confusion_matrix\n",
    "from sklearn.metrics import precision_score, recall_score, f1_score\n",
    "from sklearn.metrics import roc_curve"
   ]
  },
  {
   "cell_type": "markdown",
   "id": "49569e51",
   "metadata": {},
   "source": [
    "### Load data"
   ]
  },
  {
   "cell_type": "code",
   "execution_count": 75,
   "id": "3b5e97ad",
   "metadata": {},
   "outputs": [],
   "source": [
    "df_org = pd.read_csv(\"Data\\HeartDiseaseTrain-Test.csv\")"
   ]
  },
  {
   "cell_type": "code",
   "execution_count": 76,
   "id": "cb724904",
   "metadata": {},
   "outputs": [],
   "source": [
    "df = df_org.copy()"
   ]
  },
  {
   "cell_type": "markdown",
   "id": "a29c7b60",
   "metadata": {},
   "source": [
    "## Exploratary Data Analysis(EDA) \n",
    "here we are trying to learn more about data and their relationships\n",
    "\n",
    "1. What questions do we have about the data\n",
    "2. How do we trear different kinds of data\n",
    "3. Missing data and how do we deal with it\n",
    "4. Is there any outliers and what to do with it\n"
   ]
  },
  {
   "cell_type": "code",
   "execution_count": 77,
   "id": "fd41f929",
   "metadata": {},
   "outputs": [
    {
     "data": {
      "text/plain": [
       "(1025, 14)"
      ]
     },
     "execution_count": 77,
     "metadata": {},
     "output_type": "execute_result"
    }
   ],
   "source": [
    "df.shape"
   ]
  },
  {
   "cell_type": "code",
   "execution_count": 78,
   "id": "ff677a49",
   "metadata": {},
   "outputs": [
    {
     "data": {
      "text/plain": [
       "1    526\n",
       "0    499\n",
       "Name: target, dtype: int64"
      ]
     },
     "execution_count": 78,
     "metadata": {},
     "output_type": "execute_result"
    }
   ],
   "source": [
    "df[\"target\"].value_counts()"
   ]
  },
  {
   "cell_type": "code",
   "execution_count": 79,
   "id": "9fad18b2",
   "metadata": {},
   "outputs": [
    {
     "data": {
      "image/png": "[encoded data removed]",
      "text/plain": [
       "<Figure size 640x480 with 1 Axes>"
      ]
     },
     "metadata": {},
     "output_type": "display_data"
    }
   ],
   "source": [
    "df[\"target\"].value_counts().plot(kind = \"bar\",color = [\"salmon\", \"blue\"]);"
   ]
  },
  {
   "cell_type": "code",
   "execution_count": 80,
   "id": "9e1c61ba",
   "metadata": {},
   "outputs": [
    {
     "name": "stdout",
     "output_type": "stream",
     "text": [
      "<class 'pandas.core.frame.DataFrame'>\n",
      "RangeIndex: 1025 entries, 0 to 1024\n",
      "Data columns (total 14 columns):\n",
      " #   Column                         Non-Null Count  Dtype  \n",
      "---  ------                         --------------  -----  \n",
      " 0   age                            1025 non-null   int64  \n",
      " 1   sex                            1025 non-null   object \n",
      " 2   chest_pain_type                1025 non-null   object \n",
      " 3   resting_blood_pressure         1025 non-null   int64  \n",
      " 4   cholestoral                    1025 non-null   int64  \n",
      " 5   fasting_blood_sugar            1025 non-null   object \n",
      " 6   rest_ecg                       1025 non-null   object \n",
      " 7   Max_heart_rate                 1025 non-null   int64  \n",
      " 8   exercise_induced_angina        1025 non-null   object \n",
      " 9   oldpeak                        1025 non-null   float64\n",
      " 10  slope                          1025 non-null   object \n",
      " 11  vessels_colored_by_flourosopy  1025 non-null   object \n",
      " 12  thalassemia                    1025 non-null   object \n",
      " 13  target                         1025 non-null   int64  \n",
      "dtypes: float64(1), int64(5), object(8)\n",
      "memory usage: 112.2+ KB\n"
     ]
    }
   ],
   "source": [
    "df.info()"
   ]
  },
  {
   "cell_type": "code",
   "execution_count": 81,
   "id": "c9352602",
   "metadata": {},
   "outputs": [
    {
     "data": {
      "text/plain": [
       "age                              0\n",
       "sex                              0\n",
       "chest_pain_type                  0\n",
       "resting_blood_pressure           0\n",
       "cholestoral                      0\n",
       "fasting_blood_sugar              0\n",
       "rest_ecg                         0\n",
       "Max_heart_rate                   0\n",
       "exercise_induced_angina          0\n",
       "oldpeak                          0\n",
       "slope                            0\n",
       "vessels_colored_by_flourosopy    0\n",
       "thalassemia                      0\n",
       "target                           0\n",
       "dtype: int64"
      ]
     },
     "execution_count": 81,
     "metadata": {},
     "output_type": "execute_result"
    }
   ],
   "source": [
    "df.isnull().sum()"
   ]
  },
  {
   "cell_type": "code",
   "execution_count": 82,
   "id": "03ad9afb",
   "metadata": {},
   "outputs": [
    {
     "data": {
      "text/html": [
       "<div>\n",
       "<style scoped>\n",
       "    .dataframe tbody tr th:only-of-type {\n",
       "        vertical-align: middle;\n",
       "    }\n",
       "\n",
       "    .dataframe tbody tr th {\n",
       "        vertical-align: top;\n",
       "    }\n",
       "\n",
       "    .dataframe thead th {\n",
       "        text-align: right;\n",
       "    }\n",
       "</style>\n",
       "<table border=\"1\" class=\"dataframe\">\n",
       "  <thead>\n",
       "    <tr style=\"text-align: right;\">\n",
       "      <th></th>\n",
       "      <th>age</th>\n",
       "      <th>resting_blood_pressure</th>\n",
       "      <th>cholestoral</th>\n",
       "      <th>Max_heart_rate</th>\n",
       "      <th>oldpeak</th>\n",
       "      <th>target</th>\n",
       "    </tr>\n",
       "  </thead>\n",
       "  <tbody>\n",
       "    <tr>\n",
       "      <th>count</th>\n",
       "      <td>1025.000000</td>\n",
       "      <td>1025.000000</td>\n",
       "      <td>1025.00000</td>\n",
       "      <td>1025.000000</td>\n",
       "      <td>1025.000000</td>\n",
       "      <td>1025.000000</td>\n",
       "    </tr>\n",
       "    <tr>\n",
       "      <th>mean</th>\n",
       "      <td>54.434146</td>\n",
       "      <td>131.611707</td>\n",
       "      <td>246.00000</td>\n",
       "      <td>149.114146</td>\n",
       "      <td>1.071512</td>\n",
       "      <td>0.513171</td>\n",
       "    </tr>\n",
       "    <tr>\n",
       "      <th>std</th>\n",
       "      <td>9.072290</td>\n",
       "      <td>17.516718</td>\n",
       "      <td>51.59251</td>\n",
       "      <td>23.005724</td>\n",
       "      <td>1.175053</td>\n",
       "      <td>0.500070</td>\n",
       "    </tr>\n",
       "    <tr>\n",
       "      <th>min</th>\n",
       "      <td>29.000000</td>\n",
       "      <td>94.000000</td>\n",
       "      <td>126.00000</td>\n",
       "      <td>71.000000</td>\n",
       "      <td>0.000000</td>\n",
       "      <td>0.000000</td>\n",
       "    </tr>\n",
       "    <tr>\n",
       "      <th>25%</th>\n",
       "      <td>48.000000</td>\n",
       "      <td>120.000000</td>\n",
       "      <td>211.00000</td>\n",
       "      <td>132.000000</td>\n",
       "      <td>0.000000</td>\n",
       "      <td>0.000000</td>\n",
       "    </tr>\n",
       "    <tr>\n",
       "      <th>50%</th>\n",
       "      <td>56.000000</td>\n",
       "      <td>130.000000</td>\n",
       "      <td>240.00000</td>\n",
       "      <td>152.000000</td>\n",
       "      <td>0.800000</td>\n",
       "      <td>1.000000</td>\n",
       "    </tr>\n",
       "    <tr>\n",
       "      <th>75%</th>\n",
       "      <td>61.000000</td>\n",
       "      <td>140.000000</td>\n",
       "      <td>275.00000</td>\n",
       "      <td>166.000000</td>\n",
       "      <td>1.800000</td>\n",
       "      <td>1.000000</td>\n",
       "    </tr>\n",
       "    <tr>\n",
       "      <th>max</th>\n",
       "      <td>77.000000</td>\n",
       "      <td>200.000000</td>\n",
       "      <td>564.00000</td>\n",
       "      <td>202.000000</td>\n",
       "      <td>6.200000</td>\n",
       "      <td>1.000000</td>\n",
       "    </tr>\n",
       "  </tbody>\n",
       "</table>\n",
       "</div>"
      ],
      "text/plain": [
       "               age  resting_blood_pressure  cholestoral  Max_heart_rate  \\\n",
       "count  1025.000000             1025.000000   1025.00000     1025.000000   \n",
       "mean     54.434146              131.611707    246.00000      149.114146   \n",
       "std       9.072290               17.516718     51.59251       23.005724   \n",
       "min      29.000000               94.000000    126.00000       71.000000   \n",
       "25%      48.000000              120.000000    211.00000      132.000000   \n",
       "50%      56.000000              130.000000    240.00000      152.000000   \n",
       "75%      61.000000              140.000000    275.00000      166.000000   \n",
       "max      77.000000              200.000000    564.00000      202.000000   \n",
       "\n",
       "           oldpeak       target  \n",
       "count  1025.000000  1025.000000  \n",
       "mean      1.071512     0.513171  \n",
       "std       1.175053     0.500070  \n",
       "min       0.000000     0.000000  \n",
       "25%       0.000000     0.000000  \n",
       "50%       0.800000     1.000000  \n",
       "75%       1.800000     1.000000  \n",
       "max       6.200000     1.000000  "
      ]
     },
     "execution_count": 82,
     "metadata": {},
     "output_type": "execute_result"
    }
   ],
   "source": [
    "# We have no missing values\n",
    "df.describe()"
   ]
  },
  {
   "cell_type": "code",
   "execution_count": 83,
   "id": "bf32d97b",
   "metadata": {},
   "outputs": [],
   "source": [
    "def give_columntype(df):\n",
    "    column_type = {\"object\" : [],\n",
    "                  \"Numeric\" : []}\n",
    "    for label,content in df.items():\n",
    "        if not pd.api.types.is_numeric_dtype(content):\n",
    "            column_type[\"object\"].append(label)\n",
    "        if pd.api.types.is_numeric_dtype(content):\n",
    "            column_type[\"Numeric\"].append(label)\n",
    "    return column_type"
   ]
  },
  {
   "cell_type": "code",
   "execution_count": 84,
   "id": "aaf3158b",
   "metadata": {},
   "outputs": [
    {
     "data": {
      "text/plain": [
       "{'object': ['sex',\n",
       "  'chest_pain_type',\n",
       "  'fasting_blood_sugar',\n",
       "  'rest_ecg',\n",
       "  'exercise_induced_angina',\n",
       "  'slope',\n",
       "  'vessels_colored_by_flourosopy',\n",
       "  'thalassemia'],\n",
       " 'Numeric': ['age',\n",
       "  'resting_blood_pressure',\n",
       "  'cholestoral',\n",
       "  'Max_heart_rate',\n",
       "  'oldpeak',\n",
       "  'target']}"
      ]
     },
     "execution_count": 84,
     "metadata": {},
     "output_type": "execute_result"
    }
   ],
   "source": [
    "column_type = give_columntype(df)\n",
    "column_type"
   ]
  },
  {
   "cell_type": "code",
   "execution_count": 85,
   "id": "ea34bd92",
   "metadata": {},
   "outputs": [],
   "source": [
    "list_1 = []"
   ]
  },
  {
   "cell_type": "code",
   "execution_count": 86,
   "id": "9daea881",
   "metadata": {},
   "outputs": [],
   "source": [
    "for column in column_type[\"object\"]:\n",
    "    list_1.append(df[column].value_counts())"
   ]
  },
  {
   "cell_type": "code",
   "execution_count": 87,
   "id": "784449e7",
   "metadata": {},
   "outputs": [
    {
     "name": "stdout",
     "output_type": "stream",
     "text": [
      "Male      713\n",
      "Female    312\n",
      "Name: sex, dtype: int64\n",
      " \n",
      "Typical angina      497\n",
      "Non-anginal pain    284\n",
      "Atypical angina     167\n",
      "Asymptomatic         77\n",
      "Name: chest_pain_type, dtype: int64\n",
      " \n",
      "Lower than 120 mg/ml      872\n",
      "Greater than 120 mg/ml    153\n",
      "Name: fasting_blood_sugar, dtype: int64\n",
      " \n",
      "ST-T wave abnormality           513\n",
      "Normal                          497\n",
      "Left ventricular hypertrophy     15\n",
      "Name: rest_ecg, dtype: int64\n",
      " \n",
      "No     680\n",
      "Yes    345\n",
      "Name: exercise_induced_angina, dtype: int64\n",
      " \n",
      "Flat           482\n",
      "Downsloping    469\n",
      "Upsloping       74\n",
      "Name: slope, dtype: int64\n",
      " \n",
      "Zero     578\n",
      "One      226\n",
      "Two      134\n",
      "Three     69\n",
      "Four      18\n",
      "Name: vessels_colored_by_flourosopy, dtype: int64\n",
      " \n",
      "Fixed Defect         544\n",
      "Reversable Defect    410\n",
      "Normal                64\n",
      "No                     7\n",
      "Name: thalassemia, dtype: int64\n",
      " \n"
     ]
    }
   ],
   "source": [
    "for ele in list_1:\n",
    "    print(ele)\n",
    "    print(\" \")"
   ]
  },
  {
   "cell_type": "code",
   "execution_count": 88,
   "id": "a5113dc8",
   "metadata": {},
   "outputs": [],
   "source": [
    "list_2 = []"
   ]
  },
  {
   "cell_type": "code",
   "execution_count": 89,
   "id": "9bb09b0b",
   "metadata": {},
   "outputs": [],
   "source": [
    "for ele in df[\"sex\"]:\n",
    "    if ele == \"Male\":\n",
    "        list_2.append(1)\n",
    "    else:\n",
    "        list_2.append(0)"
   ]
  },
  {
   "cell_type": "code",
   "execution_count": 90,
   "id": "5529cb29",
   "metadata": {},
   "outputs": [],
   "source": [
    "df[\"sex\"] = list_2"
   ]
  },
  {
   "cell_type": "code",
   "execution_count": 91,
   "id": "23121588",
   "metadata": {},
   "outputs": [
    {
     "data": {
      "text/plain": [
       "1    713\n",
       "0    312\n",
       "Name: sex, dtype: int64"
      ]
     },
     "execution_count": 91,
     "metadata": {},
     "output_type": "execute_result"
    }
   ],
   "source": [
    "df[\"sex\"].value_counts()"
   ]
  },
  {
   "cell_type": "code",
   "execution_count": 92,
   "id": "1a1e523f",
   "metadata": {},
   "outputs": [
    {
     "name": "stdout",
     "output_type": "stream",
     "text": [
      "<class 'pandas.core.frame.DataFrame'>\n",
      "RangeIndex: 1025 entries, 0 to 1024\n",
      "Data columns (total 14 columns):\n",
      " #   Column                         Non-Null Count  Dtype  \n",
      "---  ------                         --------------  -----  \n",
      " 0   age                            1025 non-null   int64  \n",
      " 1   sex                            1025 non-null   int64  \n",
      " 2   chest_pain_type                1025 non-null   object \n",
      " 3   resting_blood_pressure         1025 non-null   int64  \n",
      " 4   cholestoral                    1025 non-null   int64  \n",
      " 5   fasting_blood_sugar            1025 non-null   object \n",
      " 6   rest_ecg                       1025 non-null   object \n",
      " 7   Max_heart_rate                 1025 non-null   int64  \n",
      " 8   exercise_induced_angina        1025 non-null   object \n",
      " 9   oldpeak                        1025 non-null   float64\n",
      " 10  slope                          1025 non-null   object \n",
      " 11  vessels_colored_by_flourosopy  1025 non-null   object \n",
      " 12  thalassemia                    1025 non-null   object \n",
      " 13  target                         1025 non-null   int64  \n",
      "dtypes: float64(1), int64(6), object(7)\n",
      "memory usage: 112.2+ KB\n"
     ]
    }
   ],
   "source": [
    "df.info()"
   ]
  },
  {
   "cell_type": "code",
   "execution_count": 93,
   "id": "ead130ce",
   "metadata": {},
   "outputs": [],
   "source": [
    "list_2 = []"
   ]
  },
  {
   "cell_type": "code",
   "execution_count": 94,
   "id": "bc00e91b",
   "metadata": {},
   "outputs": [],
   "source": [
    "for ele in df[\"exercise_induced_angina\"]:\n",
    "    if ele == \"Yes\":\n",
    "        list_2.append(1)\n",
    "    else:\n",
    "        list_2.append(0)"
   ]
  },
  {
   "cell_type": "code",
   "execution_count": 95,
   "id": "27479b84",
   "metadata": {},
   "outputs": [],
   "source": [
    "df[\"exercise_induced_angina\"] = list_2"
   ]
  },
  {
   "cell_type": "code",
   "execution_count": 96,
   "id": "a702777f",
   "metadata": {},
   "outputs": [
    {
     "name": "stdout",
     "output_type": "stream",
     "text": [
      "<class 'pandas.core.frame.DataFrame'>\n",
      "RangeIndex: 1025 entries, 0 to 1024\n",
      "Data columns (total 14 columns):\n",
      " #   Column                         Non-Null Count  Dtype  \n",
      "---  ------                         --------------  -----  \n",
      " 0   age                            1025 non-null   int64  \n",
      " 1   sex                            1025 non-null   int64  \n",
      " 2   chest_pain_type                1025 non-null   object \n",
      " 3   resting_blood_pressure         1025 non-null   int64  \n",
      " 4   cholestoral                    1025 non-null   int64  \n",
      " 5   fasting_blood_sugar            1025 non-null   object \n",
      " 6   rest_ecg                       1025 non-null   object \n",
      " 7   Max_heart_rate                 1025 non-null   int64  \n",
      " 8   exercise_induced_angina        1025 non-null   int64  \n",
      " 9   oldpeak                        1025 non-null   float64\n",
      " 10  slope                          1025 non-null   object \n",
      " 11  vessels_colored_by_flourosopy  1025 non-null   object \n",
      " 12  thalassemia                    1025 non-null   object \n",
      " 13  target                         1025 non-null   int64  \n",
      "dtypes: float64(1), int64(7), object(6)\n",
      "memory usage: 112.2+ KB\n"
     ]
    }
   ],
   "source": [
    "df.info()"
   ]
  },
  {
   "cell_type": "code",
   "execution_count": 97,
   "id": "8610d24c",
   "metadata": {},
   "outputs": [],
   "source": [
    "list_2 = []\n",
    "for ele in df[\"fasting_blood_sugar\"]:\n",
    "    if ele == \"Greater than 120 mg/ml\":\n",
    "        list_2.append(1)\n",
    "    else:\n",
    "        list_2.append(0)\n",
    "df[\"fasting_blood_sugar\"] = list_2"
   ]
  },
  {
   "cell_type": "code",
   "execution_count": 98,
   "id": "3d5dc1d2",
   "metadata": {},
   "outputs": [
    {
     "name": "stdout",
     "output_type": "stream",
     "text": [
      "<class 'pandas.core.frame.DataFrame'>\n",
      "RangeIndex: 1025 entries, 0 to 1024\n",
      "Data columns (total 14 columns):\n",
      " #   Column                         Non-Null Count  Dtype  \n",
      "---  ------                         --------------  -----  \n",
      " 0   age                            1025 non-null   int64  \n",
      " 1   sex                            1025 non-null   int64  \n",
      " 2   chest_pain_type                1025 non-null   object \n",
      " 3   resting_blood_pressure         1025 non-null   int64  \n",
      " 4   cholestoral                    1025 non-null   int64  \n",
      " 5   fasting_blood_sugar            1025 non-null   int64  \n",
      " 6   rest_ecg                       1025 non-null   object \n",
      " 7   Max_heart_rate                 1025 non-null   int64  \n",
      " 8   exercise_induced_angina        1025 non-null   int64  \n",
      " 9   oldpeak                        1025 non-null   float64\n",
      " 10  slope                          1025 non-null   object \n",
      " 11  vessels_colored_by_flourosopy  1025 non-null   object \n",
      " 12  thalassemia                    1025 non-null   object \n",
      " 13  target                         1025 non-null   int64  \n",
      "dtypes: float64(1), int64(8), object(5)\n",
      "memory usage: 112.2+ KB\n"
     ]
    }
   ],
   "source": [
    "df.info()"
   ]
  },
  {
   "cell_type": "code",
   "execution_count": 99,
   "id": "e5d9e129",
   "metadata": {},
   "outputs": [
    {
     "data": {
      "text/html": [
       "<div>\n",
       "<style scoped>\n",
       "    .dataframe tbody tr th:only-of-type {\n",
       "        vertical-align: middle;\n",
       "    }\n",
       "\n",
       "    .dataframe tbody tr th {\n",
       "        vertical-align: top;\n",
       "    }\n",
       "\n",
       "    .dataframe thead th {\n",
       "        text-align: right;\n",
       "    }\n",
       "</style>\n",
       "<table border=\"1\" class=\"dataframe\">\n",
       "  <thead>\n",
       "    <tr style=\"text-align: right;\">\n",
       "      <th>target</th>\n",
       "      <th>0</th>\n",
       "      <th>1</th>\n",
       "    </tr>\n",
       "    <tr>\n",
       "      <th>sex</th>\n",
       "      <th></th>\n",
       "      <th></th>\n",
       "    </tr>\n",
       "  </thead>\n",
       "  <tbody>\n",
       "    <tr>\n",
       "      <th>0</th>\n",
       "      <td>86</td>\n",
       "      <td>226</td>\n",
       "    </tr>\n",
       "    <tr>\n",
       "      <th>1</th>\n",
       "      <td>413</td>\n",
       "      <td>300</td>\n",
       "    </tr>\n",
       "  </tbody>\n",
       "</table>\n",
       "</div>"
      ],
      "text/plain": [
       "target    0    1\n",
       "sex             \n",
       "0        86  226\n",
       "1       413  300"
      ]
     },
     "execution_count": 99,
     "metadata": {},
     "output_type": "execute_result"
    }
   ],
   "source": [
    "pd.crosstab( df[\"sex\"], df[\"target\"])"
   ]
  },
  {
   "cell_type": "code",
   "execution_count": 100,
   "id": "cb7d648f",
   "metadata": {},
   "outputs": [
    {
     "data": {
      "text/plain": [
       "<matplotlib.legend.Legend at 0x1c9dc4ff050>"
      ]
     },
     "execution_count": 100,
     "metadata": {},
     "output_type": "execute_result"
    },
    {
     "data": {
      "image/png": "[encoded data removed]",
      "text/plain": [
       "<Figure size 1000x600 with 1 Axes>"
      ]
     },
     "metadata": {},
     "output_type": "display_data"
    }
   ],
   "source": [
    "pd.crosstab( df[\"sex\"], df[\"target\"]).plot(kind = \"bar\", figsize = (10,6), color = [\"lightblue\", \"salmon\"]);\n",
    "plt.title(\"heart disease frequency for sex\");\n",
    "plt.xlabel(\"0 : Female, 1: male\");\n",
    "plt.legend([\"heart disease absent\", \"heart disease present\"])"
   ]
  },
  {
   "cell_type": "code",
   "execution_count": 101,
   "id": "dd484e15",
   "metadata": {},
   "outputs": [
    {
     "data": {
      "text/plain": [
       "162    35\n",
       "160    31\n",
       "163    29\n",
       "173    28\n",
       "152    28\n",
       "       ..\n",
       "194     3\n",
       "185     3\n",
       "106     3\n",
       "88      3\n",
       "113     3\n",
       "Name: Max_heart_rate, Length: 91, dtype: int64"
      ]
     },
     "execution_count": 101,
     "metadata": {},
     "output_type": "execute_result"
    }
   ],
   "source": [
    "df[\"Max_heart_rate\"].value_counts()"
   ]
  },
  {
   "cell_type": "code",
   "execution_count": 102,
   "id": "fb0012b7",
   "metadata": {},
   "outputs": [
    {
     "data": {
      "text/plain": [
       "{'object': ['chest_pain_type',\n",
       "  'rest_ecg',\n",
       "  'slope',\n",
       "  'vessels_colored_by_flourosopy',\n",
       "  'thalassemia'],\n",
       " 'Numeric': ['age',\n",
       "  'sex',\n",
       "  'resting_blood_pressure',\n",
       "  'cholestoral',\n",
       "  'fasting_blood_sugar',\n",
       "  'Max_heart_rate',\n",
       "  'exercise_induced_angina',\n",
       "  'oldpeak',\n",
       "  'target']}"
      ]
     },
     "execution_count": 102,
     "metadata": {},
     "output_type": "execute_result"
    }
   ],
   "source": [
    "column_type = give_columntype(df)\n",
    "column_type"
   ]
  },
  {
   "cell_type": "code",
   "execution_count": 103,
   "id": "ecde0bed",
   "metadata": {},
   "outputs": [],
   "source": [
    "for label, content in df.items():\n",
    "    if label in column_type[\"object\"]:\n",
    "        df[label] = pd.Categorical(content).codes"
   ]
  },
  {
   "cell_type": "code",
   "execution_count": 107,
   "id": "880b86ed",
   "metadata": {},
   "outputs": [],
   "source": [
    "df.to_csv(\"Data\\df_numerical.csv\",\n",
    "         index = False)"
   ]
  },
  {
   "cell_type": "code",
   "execution_count": 109,
   "id": "5b393ba2",
   "metadata": {},
   "outputs": [],
   "source": [
    "df_tmp = pd.read_csv(\"Data\\df_numerical.csv\",\n",
    "                    low_memory = False)"
   ]
  },
  {
   "cell_type": "code",
   "execution_count": 110,
   "id": "586b8e64",
   "metadata": {},
   "outputs": [
    {
     "name": "stdout",
     "output_type": "stream",
     "text": [
      "<class 'pandas.core.frame.DataFrame'>\n",
      "RangeIndex: 1025 entries, 0 to 1024\n",
      "Data columns (total 14 columns):\n",
      " #   Column                         Non-Null Count  Dtype  \n",
      "---  ------                         --------------  -----  \n",
      " 0   age                            1025 non-null   int64  \n",
      " 1   sex                            1025 non-null   int64  \n",
      " 2   chest_pain_type                1025 non-null   int64  \n",
      " 3   resting_blood_pressure         1025 non-null   int64  \n",
      " 4   cholestoral                    1025 non-null   int64  \n",
      " 5   fasting_blood_sugar            1025 non-null   int64  \n",
      " 6   rest_ecg                       1025 non-null   int64  \n",
      " 7   Max_heart_rate                 1025 non-null   int64  \n",
      " 8   exercise_induced_angina        1025 non-null   int64  \n",
      " 9   oldpeak                        1025 non-null   float64\n",
      " 10  slope                          1025 non-null   int64  \n",
      " 11  vessels_colored_by_flourosopy  1025 non-null   int64  \n",
      " 12  thalassemia                    1025 non-null   int64  \n",
      " 13  target                         1025 non-null   int64  \n",
      "dtypes: float64(1), int64(13)\n",
      "memory usage: 112.2 KB\n"
     ]
    }
   ],
   "source": [
    "df_tmp.info()"
   ]
  },
  {
   "cell_type": "markdown",
   "id": "2d8bec1f",
   "metadata": {},
   "source": [
    "### Age vs Max Heart rate"
   ]
  },
  {
   "cell_type": "code",
   "execution_count": 118,
   "id": "329890c5",
   "metadata": {},
   "outputs": [
    {
     "data": {
      "text/plain": [
       "Text(0.5, 0, 'Age')"
      ]
     },
     "execution_count": 118,
     "metadata": {},
     "output_type": "execute_result"
    },
    {
     "data": {
      "image/png": "[encoded data removed]",
      "text/plain": [
       "<Figure size 1000x600 with 1 Axes>"
      ]
     },
     "metadata": {},
     "output_type": "display_data"
    }
   ],
   "source": [
    "# Plotting age vs max heart rate\n",
    "fig, ax = plt.subplots(figsize = (10,6))\n",
    "\n",
    "# Scatter plot with heart disease\n",
    "ax.scatter(df[\"age\"][df[\"target\"] == 1],\n",
    "          df[\"Max_heart_rate\"][df[\"target\"] == 1],\n",
    "          c = \"salmon\");\n",
    "\n",
    "# Scatter plot with no heart disease\n",
    "ax.scatter(df[\"age\"][df[\"target\"] == 0],\n",
    "          df[\"Max_heart_rate\"][df[\"target\"] == 0],\n",
    "          c = \"lightblue\");\n",
    "\n",
    "ax.set_title(\"Heart disease as a function of max heart rate and age\");\n",
    "ax.set_ylabel(\"Max Heart Rate\")\n",
    "ax.set_xlabel(\"Age\")"
   ]
  },
  {
   "cell_type": "code",
   "execution_count": 121,
   "id": "f0a4a834",
   "metadata": {},
   "outputs": [
    {
     "data": {
      "image/png": "[encoded data removed]",
      "text/plain": [
       "<Figure size 640x480 with 1 Axes>"
      ]
     },
     "metadata": {},
     "output_type": "display_data"
    }
   ],
   "source": [
    "# Checking distribution of the age\n",
    "df[\"age\"].plot.hist();"
   ]
  },
  {
   "cell_type": "code",
   "execution_count": 125,
   "id": "0a15506f",
   "metadata": {},
   "outputs": [
    {
     "data": {
      "image/png": "[encoded data removed]",
      "text/plain": [
       "<Figure size 1000x600 with 1 Axes>"
      ]
     },
     "metadata": {},
     "output_type": "display_data"
    }
   ],
   "source": [
    "pd.crosstab(df[\"chest_pain_type\"], df[\"target\"]).plot(kind = \"bar\",\n",
    "                                                     figsize = (10,6),\n",
    "                                                     color = [\"salmon\", \"lightblue\"]);\n",
    "plt.title(\"Heart disease Frequency per chest pain type\");\n",
    "plt.xlabel(\"Chest pain type\");\n",
    "plt.ylabel(\"target frequency\");\n",
    "plt.legend([\"No heart disease\", \"Heart disease\"]);"
   ]
  },
  {
   "cell_type": "markdown",
   "id": "89d8b881",
   "metadata": {},
   "source": [
    "# 5. Modelling"
   ]
  },
  {
   "cell_type": "code",
   "execution_count": 2,
   "id": "31967c39",
   "metadata": {},
   "outputs": [],
   "source": [
    "df_tmp = pd.read_csv(\"Data\\df_numerical.csv\",\n",
    "                    low_memory = False)"
   ]
  },
  {
   "cell_type": "code",
   "execution_count": null,
   "id": "0fd50c8a",
   "metadata": {},
   "outputs": [],
   "source": []
  },
  {
   "cell_type": "code",
   "execution_count": 3,
   "id": "fdda4bd6",
   "metadata": {},
   "outputs": [],
   "source": [
    "# Splitting data into data and label\n",
    "X = df_tmp.drop(\"target\", axis = 1)\n",
    "\n",
    "y = df_tmp[\"target\"]"
   ]
  },
  {
   "cell_type": "code",
   "execution_count": 4,
   "id": "f023e310",
   "metadata": {},
   "outputs": [
    {
     "data": {
      "text/plain": [
       "((1025, 13), (1025,))"
      ]
     },
     "execution_count": 4,
     "metadata": {},
     "output_type": "execute_result"
    }
   ],
   "source": [
    "X.shape, y.shape"
   ]
  },
  {
   "cell_type": "code",
   "execution_count": 5,
   "id": "80fc265c",
   "metadata": {},
   "outputs": [],
   "source": [
    "# Split data into train and test set\n",
    "np.random.seed(42)\n",
    "X_train, X_test, y_train, y_test = train_test_split(X,\n",
    "                                                    y, \n",
    "                                                    test_size = 0.2) "
   ]
  },
  {
   "cell_type": "code",
   "execution_count": 6,
   "id": "719b7b9b",
   "metadata": {},
   "outputs": [
    {
     "data": {
      "text/plain": [
       "((820, 13), (205, 13), (820,), (205,))"
      ]
     },
     "execution_count": 6,
     "metadata": {},
     "output_type": "execute_result"
    }
   ],
   "source": [
    "X_train.shape, X_test.shape, y_train.shape, y_test.shape"
   ]
  },
  {
   "cell_type": "markdown",
   "id": "dab7debc",
   "metadata": {},
   "source": [
    "We are going to try three different models\n",
    "1. Logistic regression\n",
    "2. K-Nearest neighbor classifier\n",
    "3. Random Forest Classifier"
   ]
  },
  {
   "cell_type": "code",
   "execution_count": 25,
   "id": "a610bb79",
   "metadata": {},
   "outputs": [],
   "source": [
    "models = {\n",
    "    \"Logistic regression\" : LogisticRegression(),\n",
    "    \"KNN\" : KNeighborsClassifier(),\n",
    "    \"Random Forest\" : RandomForestClassifier()\n",
    "}\n",
    "\n",
    "# Create a function to fit and score models\n",
    "def fit_and_score(models, X_train, X_test, y_train, y_test):\n",
    "    np.random.seed(42)\n",
    "    model_score = {}\n",
    "    for name,model in models.items():\n",
    "        model.fit(X_train,y_train)\n",
    "        model_score[name] = model.score(X_test, y_test)\n",
    "        if name == \"Random Forest\":\n",
    "            model.get_params()\n",
    "    return model_score\n",
    "        "
   ]
  },
  {
   "cell_type": "code",
   "execution_count": 26,
   "id": "9d5a6190",
   "metadata": {},
   "outputs": [
    {
     "name": "stderr",
     "output_type": "stream",
     "text": [
      "C:\\sample_project\\env\\Lib\\site-packages\\sklearn\\linear_model\\_logistic.py:458: ConvergenceWarning: lbfgs failed to converge (status=1):\n",
      "STOP: TOTAL NO. of ITERATIONS REACHED LIMIT.\n",
      "\n",
      "Increase the number of iterations (max_iter) or scale the data as shown in:\n",
      "    https://scikit-learn.org/stable/modules/preprocessing.html\n",
      "Please also refer to the documentation for alternative solver options:\n",
      "    https://scikit-learn.org/stable/modules/linear_model.html#logistic-regression\n",
      "  n_iter_i = _check_optimize_result(\n"
     ]
    }
   ],
   "source": [
    "model_score = fit_and_score(models, X_train, X_test, y_train, y_test)"
   ]
  },
  {
   "cell_type": "code",
   "execution_count": 27,
   "id": "7aa79275",
   "metadata": {},
   "outputs": [],
   "source": [
    "model_compare = pd.DataFrame(model_score, index = [\"analysis\"])"
   ]
  },
  {
   "cell_type": "code",
   "execution_count": 29,
   "id": "c63221bc",
   "metadata": {},
   "outputs": [
    {
     "data": {
      "text/plain": [
       "{'bootstrap': True,\n",
       " 'ccp_alpha': 0.0,\n",
       " 'class_weight': None,\n",
       " 'criterion': 'gini',\n",
       " 'max_depth': None,\n",
       " 'max_features': 'sqrt',\n",
       " 'max_leaf_nodes': None,\n",
       " 'max_samples': None,\n",
       " 'min_impurity_decrease': 0.0,\n",
       " 'min_samples_leaf': 1,\n",
       " 'min_samples_split': 2,\n",
       " 'min_weight_fraction_leaf': 0.0,\n",
       " 'n_estimators': 100,\n",
       " 'n_jobs': None,\n",
       " 'oob_score': False,\n",
       " 'random_state': None,\n",
       " 'verbose': 0,\n",
       " 'warm_start': False}"
      ]
     },
     "execution_count": 29,
     "metadata": {},
     "output_type": "execute_result"
    }
   ],
   "source": [
    "model1 = RandomForestClassifier()\n",
    "model1.fit(X_train, y_train)\n",
    "model1.score(X_test, y_test)\n",
    "model1.get_params()"
   ]
  },
  {
   "cell_type": "code",
   "execution_count": 19,
   "id": "c031fcb1",
   "metadata": {},
   "outputs": [
    {
     "data": {
      "image/png": "[encoded data removed]",
      "text/plain": [
       "<Figure size 640x480 with 1 Axes>"
      ]
     },
     "metadata": {},
     "output_type": "display_data"
    }
   ],
   "source": [
    "model_compare.T.plot.bar();"
   ]
  },
  {
   "cell_type": "code",
   "execution_count": 20,
   "id": "6fdb105d",
   "metadata": {},
   "outputs": [
    {
     "data": {
      "text/html": [
       "<div>\n",
       "<style scoped>\n",
       "    .dataframe tbody tr th:only-of-type {\n",
       "        vertical-align: middle;\n",
       "    }\n",
       "\n",
       "    .dataframe tbody tr th {\n",
       "        vertical-align: top;\n",
       "    }\n",
       "\n",
       "    .dataframe thead th {\n",
       "        text-align: right;\n",
       "    }\n",
       "</style>\n",
       "<table border=\"1\" class=\"dataframe\">\n",
       "  <thead>\n",
       "    <tr style=\"text-align: right;\">\n",
       "      <th></th>\n",
       "      <th>Logistic regression</th>\n",
       "      <th>KNN</th>\n",
       "      <th>Random Forest</th>\n",
       "    </tr>\n",
       "  </thead>\n",
       "  <tbody>\n",
       "    <tr>\n",
       "      <th>analysis</th>\n",
       "      <td>0.785366</td>\n",
       "      <td>0.731707</td>\n",
       "      <td>0.985366</td>\n",
       "    </tr>\n",
       "  </tbody>\n",
       "</table>\n",
       "</div>"
      ],
      "text/plain": [
       "          Logistic regression       KNN  Random Forest\n",
       "analysis             0.785366  0.731707       0.985366"
      ]
     },
     "execution_count": 20,
     "metadata": {},
     "output_type": "execute_result"
    }
   ],
   "source": [
    "model_compare"
   ]
  },
  {
   "cell_type": "code",
   "execution_count": 5,
   "id": "58a908fe",
   "metadata": {},
   "outputs": [
    {
     "data": {
      "text/plain": [
       "array([1.00000000e-03, 4.64158883e-03, 2.15443469e-02, 1.00000000e-01,\n",
       "       4.64158883e-01, 2.15443469e+00, 1.00000000e+01, 4.64158883e+01,\n",
       "       2.15443469e+02, 1.00000000e+03])"
      ]
     },
     "execution_count": 5,
     "metadata": {},
     "output_type": "execute_result"
    }
   ],
   "source": [
    "np.logspace(-3,3,10)"
   ]
  },
  {
   "cell_type": "markdown",
   "id": "6895515f",
   "metadata": {},
   "source": [
    "## Hyperparamter tuning with randomizedsearchcv"
   ]
  },
  {
   "cell_type": "code",
   "execution_count": 7,
   "id": "745de514",
   "metadata": {},
   "outputs": [],
   "source": [
    "# Create a hyperparameter dictionary for logistic regression\n",
    "log_reg_grid = {\"C\" : np.logspace(-4,4,20),\n",
    "                \"solver\" : [\"liblinear\"]}\n",
    "\n",
    "# Create a hyperparameter grid for RandomForestClassifier\n",
    "rf_grid = {\"n_estimators\" : np.arange(10, 1000,50),\n",
    "          \"max_depth\" : [None, 3, 5, 10],\n",
    "          \"min_samples_split\" : np.arange(2,20,2),\n",
    "          \"min_samples_leaf\" : np.arange(1, 20,2)}"
   ]
  },
  {
   "cell_type": "code",
   "execution_count": 8,
   "id": "c3f7cd1b",
   "metadata": {},
   "outputs": [
    {
     "name": "stdout",
     "output_type": "stream",
     "text": [
      "Fitting 5 folds for each of 20 candidates, totalling 100 fits\n"
     ]
    },
    {
     "data": {
      "text/html": [
       "<style>#sk-container-id-1 {color: black;background-color: white;}#sk-container-id-1 pre{padding: 0;}#sk-container-id-1 div.sk-toggleable {background-color: white;}#sk-container-id-1 label.sk-toggleable__label {cursor: pointer;display: block;width: 100%;margin-bottom: 0;padding: 0.3em;box-sizing: border-box;text-align: center;}#sk-container-id-1 label.sk-toggleable__label-arrow:before {content: \"▸\";float: left;margin-right: 0.25em;color: #696969;}#sk-container-id-1 label.sk-toggleable__label-arrow:hover:before {color: black;}#sk-container-id-1 div.sk-estimator:hover label.sk-toggleable__label-arrow:before {color: black;}#sk-container-id-1 div.sk-toggleable__content {max-height: 0;max-width: 0;overflow: hidden;text-align: left;background-color: #f0f8ff;}#sk-container-id-1 div.sk-toggleable__content pre {margin: 0.2em;color: black;border-radius: 0.25em;background-color: #f0f8ff;}#sk-container-id-1 input.sk-toggleable__control:checked~div.sk-toggleable__content {max-height: 200px;max-width: 100%;overflow: auto;}#sk-container-id-1 input.sk-toggleable__control:checked~label.sk-toggleable__label-arrow:before {content: \"▾\";}#sk-container-id-1 div.sk-estimator input.sk-toggleable__control:checked~label.sk-toggleable__label {background-color: #d4ebff;}#sk-container-id-1 div.sk-label input.sk-toggleable__control:checked~label.sk-toggleable__label {background-color: #d4ebff;}#sk-container-id-1 input.sk-hidden--visually {border: 0;clip: rect(1px 1px 1px 1px);clip: rect(1px, 1px, 1px, 1px);height: 1px;margin: -1px;overflow: hidden;padding: 0;position: absolute;width: 1px;}#sk-container-id-1 div.sk-estimator {font-family: monospace;background-color: #f0f8ff;border: 1px dotted black;border-radius: 0.25em;box-sizing: border-box;margin-bottom: 0.5em;}#sk-container-id-1 div.sk-estimator:hover {background-color: #d4ebff;}#sk-container-id-1 div.sk-parallel-item::after {content: \"\";width: 100%;border-bottom: 1px solid gray;flex-grow: 1;}#sk-container-id-1 div.sk-label:hover label.sk-toggleable__label {background-color: #d4ebff;}#sk-container-id-1 div.sk-serial::before {content: \"\";position: absolute;border-left: 1px solid gray;box-sizing: border-box;top: 0;bottom: 0;left: 50%;z-index: 0;}#sk-container-id-1 div.sk-serial {display: flex;flex-direction: column;align-items: center;background-color: white;padding-right: 0.2em;padding-left: 0.2em;position: relative;}#sk-container-id-1 div.sk-item {position: relative;z-index: 1;}#sk-container-id-1 div.sk-parallel {display: flex;align-items: stretch;justify-content: center;background-color: white;position: relative;}#sk-container-id-1 div.sk-item::before, #sk-container-id-1 div.sk-parallel-item::before {content: \"\";position: absolute;border-left: 1px solid gray;box-sizing: border-box;top: 0;bottom: 0;left: 50%;z-index: -1;}#sk-container-id-1 div.sk-parallel-item {display: flex;flex-direction: column;z-index: 1;position: relative;background-color: white;}#sk-container-id-1 div.sk-parallel-item:first-child::after {align-self: flex-end;width: 50%;}#sk-container-id-1 div.sk-parallel-item:last-child::after {align-self: flex-start;width: 50%;}#sk-container-id-1 div.sk-parallel-item:only-child::after {width: 0;}#sk-container-id-1 div.sk-dashed-wrapped {border: 1px dashed gray;margin: 0 0.4em 0.5em 0.4em;box-sizing: border-box;padding-bottom: 0.4em;background-color: white;}#sk-container-id-1 div.sk-label label {font-family: monospace;font-weight: bold;display: inline-block;line-height: 1.2em;}#sk-container-id-1 div.sk-label-container {text-align: center;}#sk-container-id-1 div.sk-container {/* jupyter's `normalize.less` sets `[hidden] { display: none; }` but bootstrap.min.css set `[hidden] { display: none !important; }` so we also need the `!important` here to be able to override the default hidden behavior on the sphinx rendered scikit-learn.org. See: https://github.com/scikit-learn/scikit-learn/issues/21755 */display: inline-block !important;position: relative;}#sk-container-id-1 div.sk-text-repr-fallback {display: none;}</style><div id=\"sk-container-id-1\" class=\"sk-top-container\"><div class=\"sk-text-repr-fallback\"><pre>RandomizedSearchCV(cv=5, estimator=LogisticRegression(), n_iter=20,\n",
       "                   param_distributions={&#x27;C&#x27;: array([1.00000000e-04, 2.63665090e-04, 6.95192796e-04, 1.83298071e-03,\n",
       "       4.83293024e-03, 1.27427499e-02, 3.35981829e-02, 8.85866790e-02,\n",
       "       2.33572147e-01, 6.15848211e-01, 1.62377674e+00, 4.28133240e+00,\n",
       "       1.12883789e+01, 2.97635144e+01, 7.84759970e+01, 2.06913808e+02,\n",
       "       5.45559478e+02, 1.43844989e+03, 3.79269019e+03, 1.00000000e+04]),\n",
       "                                        &#x27;solver&#x27;: [&#x27;liblinear&#x27;]},\n",
       "                   verbose=True)</pre><b>In a Jupyter environment, please rerun this cell to show the HTML representation or trust the notebook. <br />On GitHub, the HTML representation is unable to render, please try loading this page with nbviewer.org.</b></div><div class=\"sk-container\" hidden><div class=\"sk-item sk-dashed-wrapped\"><div class=\"sk-label-container\"><div class=\"sk-label sk-toggleable\"><input class=\"sk-toggleable__control sk-hidden--visually\" id=\"sk-estimator-id-1\" type=\"checkbox\" ><label for=\"sk-estimator-id-1\" class=\"sk-toggleable__label sk-toggleable__label-arrow\">RandomizedSearchCV</label><div class=\"sk-toggleable__content\"><pre>RandomizedSearchCV(cv=5, estimator=LogisticRegression(), n_iter=20,\n",
       "                   param_distributions={&#x27;C&#x27;: array([1.00000000e-04, 2.63665090e-04, 6.95192796e-04, 1.83298071e-03,\n",
       "       4.83293024e-03, 1.27427499e-02, 3.35981829e-02, 8.85866790e-02,\n",
       "       2.33572147e-01, 6.15848211e-01, 1.62377674e+00, 4.28133240e+00,\n",
       "       1.12883789e+01, 2.97635144e+01, 7.84759970e+01, 2.06913808e+02,\n",
       "       5.45559478e+02, 1.43844989e+03, 3.79269019e+03, 1.00000000e+04]),\n",
       "                                        &#x27;solver&#x27;: [&#x27;liblinear&#x27;]},\n",
       "                   verbose=True)</pre></div></div></div><div class=\"sk-parallel\"><div class=\"sk-parallel-item\"><div class=\"sk-item\"><div class=\"sk-label-container\"><div class=\"sk-label sk-toggleable\"><input class=\"sk-toggleable__control sk-hidden--visually\" id=\"sk-estimator-id-2\" type=\"checkbox\" ><label for=\"sk-estimator-id-2\" class=\"sk-toggleable__label sk-toggleable__label-arrow\">estimator: LogisticRegression</label><div class=\"sk-toggleable__content\"><pre>LogisticRegression()</pre></div></div></div><div class=\"sk-serial\"><div class=\"sk-item\"><div class=\"sk-estimator sk-toggleable\"><input class=\"sk-toggleable__control sk-hidden--visually\" id=\"sk-estimator-id-3\" type=\"checkbox\" ><label for=\"sk-estimator-id-3\" class=\"sk-toggleable__label sk-toggleable__label-arrow\">LogisticRegression</label><div class=\"sk-toggleable__content\"><pre>LogisticRegression()</pre></div></div></div></div></div></div></div></div></div></div>"
      ],
      "text/plain": [
       "RandomizedSearchCV(cv=5, estimator=LogisticRegression(), n_iter=20,\n",
       "                   param_distributions={'C': array([1.00000000e-04, 2.63665090e-04, 6.95192796e-04, 1.83298071e-03,\n",
       "       4.83293024e-03, 1.27427499e-02, 3.35981829e-02, 8.85866790e-02,\n",
       "       2.33572147e-01, 6.15848211e-01, 1.62377674e+00, 4.28133240e+00,\n",
       "       1.12883789e+01, 2.97635144e+01, 7.84759970e+01, 2.06913808e+02,\n",
       "       5.45559478e+02, 1.43844989e+03, 3.79269019e+03, 1.00000000e+04]),\n",
       "                                        'solver': ['liblinear']},\n",
       "                   verbose=True)"
      ]
     },
     "execution_count": 8,
     "metadata": {},
     "output_type": "execute_result"
    }
   ],
   "source": [
    "# Tune Logistic regression\n",
    "np.random.seed(42)\n",
    "\n",
    "rs_log_reg = RandomizedSearchCV(LogisticRegression(),\n",
    "                               param_distributions = log_reg_grid,\n",
    "                               cv = 5,\n",
    "                               n_iter = 20,\n",
    "                               verbose = True)\n",
    "\n",
    "rs_log_reg.fit(X_train, y_train)"
   ]
  },
  {
   "cell_type": "code",
   "execution_count": 9,
   "id": "89ab6f1c",
   "metadata": {},
   "outputs": [
    {
     "data": {
      "text/plain": [
       "{'solver': 'liblinear', 'C': 0.615848211066026}"
      ]
     },
     "execution_count": 9,
     "metadata": {},
     "output_type": "execute_result"
    }
   ],
   "source": [
    "rs_log_reg.best_params_"
   ]
  },
  {
   "cell_type": "code",
   "execution_count": 10,
   "id": "51199e66",
   "metadata": {},
   "outputs": [
    {
     "data": {
      "text/plain": [
       "0.7853658536585366"
      ]
     },
     "execution_count": 10,
     "metadata": {},
     "output_type": "execute_result"
    }
   ],
   "source": [
    "rs_log_reg.score(X_test, y_test)"
   ]
  },
  {
   "cell_type": "code",
   "execution_count": 11,
   "id": "bfed4740",
   "metadata": {},
   "outputs": [
    {
     "name": "stdout",
     "output_type": "stream",
     "text": [
      "Fitting 5 folds for each of 20 candidates, totalling 100 fits\n"
     ]
    },
    {
     "data": {
      "text/html": [
       "<style>#sk-container-id-2 {color: black;background-color: white;}#sk-container-id-2 pre{padding: 0;}#sk-container-id-2 div.sk-toggleable {background-color: white;}#sk-container-id-2 label.sk-toggleable__label {cursor: pointer;display: block;width: 100%;margin-bottom: 0;padding: 0.3em;box-sizing: border-box;text-align: center;}#sk-container-id-2 label.sk-toggleable__label-arrow:before {content: \"▸\";float: left;margin-right: 0.25em;color: #696969;}#sk-container-id-2 label.sk-toggleable__label-arrow:hover:before {color: black;}#sk-container-id-2 div.sk-estimator:hover label.sk-toggleable__label-arrow:before {color: black;}#sk-container-id-2 div.sk-toggleable__content {max-height: 0;max-width: 0;overflow: hidden;text-align: left;background-color: #f0f8ff;}#sk-container-id-2 div.sk-toggleable__content pre {margin: 0.2em;color: black;border-radius: 0.25em;background-color: #f0f8ff;}#sk-container-id-2 input.sk-toggleable__control:checked~div.sk-toggleable__content {max-height: 200px;max-width: 100%;overflow: auto;}#sk-container-id-2 input.sk-toggleable__control:checked~label.sk-toggleable__label-arrow:before {content: \"▾\";}#sk-container-id-2 div.sk-estimator input.sk-toggleable__control:checked~label.sk-toggleable__label {background-color: #d4ebff;}#sk-container-id-2 div.sk-label input.sk-toggleable__control:checked~label.sk-toggleable__label {background-color: #d4ebff;}#sk-container-id-2 input.sk-hidden--visually {border: 0;clip: rect(1px 1px 1px 1px);clip: rect(1px, 1px, 1px, 1px);height: 1px;margin: -1px;overflow: hidden;padding: 0;position: absolute;width: 1px;}#sk-container-id-2 div.sk-estimator {font-family: monospace;background-color: #f0f8ff;border: 1px dotted black;border-radius: 0.25em;box-sizing: border-box;margin-bottom: 0.5em;}#sk-container-id-2 div.sk-estimator:hover {background-color: #d4ebff;}#sk-container-id-2 div.sk-parallel-item::after {content: \"\";width: 100%;border-bottom: 1px solid gray;flex-grow: 1;}#sk-container-id-2 div.sk-label:hover label.sk-toggleable__label {background-color: #d4ebff;}#sk-container-id-2 div.sk-serial::before {content: \"\";position: absolute;border-left: 1px solid gray;box-sizing: border-box;top: 0;bottom: 0;left: 50%;z-index: 0;}#sk-container-id-2 div.sk-serial {display: flex;flex-direction: column;align-items: center;background-color: white;padding-right: 0.2em;padding-left: 0.2em;position: relative;}#sk-container-id-2 div.sk-item {position: relative;z-index: 1;}#sk-container-id-2 div.sk-parallel {display: flex;align-items: stretch;justify-content: center;background-color: white;position: relative;}#sk-container-id-2 div.sk-item::before, #sk-container-id-2 div.sk-parallel-item::before {content: \"\";position: absolute;border-left: 1px solid gray;box-sizing: border-box;top: 0;bottom: 0;left: 50%;z-index: -1;}#sk-container-id-2 div.sk-parallel-item {display: flex;flex-direction: column;z-index: 1;position: relative;background-color: white;}#sk-container-id-2 div.sk-parallel-item:first-child::after {align-self: flex-end;width: 50%;}#sk-container-id-2 div.sk-parallel-item:last-child::after {align-self: flex-start;width: 50%;}#sk-container-id-2 div.sk-parallel-item:only-child::after {width: 0;}#sk-container-id-2 div.sk-dashed-wrapped {border: 1px dashed gray;margin: 0 0.4em 0.5em 0.4em;box-sizing: border-box;padding-bottom: 0.4em;background-color: white;}#sk-container-id-2 div.sk-label label {font-family: monospace;font-weight: bold;display: inline-block;line-height: 1.2em;}#sk-container-id-2 div.sk-label-container {text-align: center;}#sk-container-id-2 div.sk-container {/* jupyter's `normalize.less` sets `[hidden] { display: none; }` but bootstrap.min.css set `[hidden] { display: none !important; }` so we also need the `!important` here to be able to override the default hidden behavior on the sphinx rendered scikit-learn.org. See: https://github.com/scikit-learn/scikit-learn/issues/21755 */display: inline-block !important;position: relative;}#sk-container-id-2 div.sk-text-repr-fallback {display: none;}</style><div id=\"sk-container-id-2\" class=\"sk-top-container\"><div class=\"sk-text-repr-fallback\"><pre>RandomizedSearchCV(cv=5, estimator=RandomForestClassifier(), n_iter=20,\n",
       "                   param_distributions={&#x27;max_depth&#x27;: [None, 3, 5, 10],\n",
       "                                        &#x27;min_samples_leaf&#x27;: array([ 1,  3,  5,  7,  9, 11, 13, 15, 17, 19]),\n",
       "                                        &#x27;min_samples_split&#x27;: array([ 2,  4,  6,  8, 10, 12, 14, 16, 18]),\n",
       "                                        &#x27;n_estimators&#x27;: array([ 10,  60, 110, 160, 210, 260, 310, 360, 410, 460, 510, 560, 610,\n",
       "       660, 710, 760, 810, 860, 910, 960])},\n",
       "                   verbose=True)</pre><b>In a Jupyter environment, please rerun this cell to show the HTML representation or trust the notebook. <br />On GitHub, the HTML representation is unable to render, please try loading this page with nbviewer.org.</b></div><div class=\"sk-container\" hidden><div class=\"sk-item sk-dashed-wrapped\"><div class=\"sk-label-container\"><div class=\"sk-label sk-toggleable\"><input class=\"sk-toggleable__control sk-hidden--visually\" id=\"sk-estimator-id-4\" type=\"checkbox\" ><label for=\"sk-estimator-id-4\" class=\"sk-toggleable__label sk-toggleable__label-arrow\">RandomizedSearchCV</label><div class=\"sk-toggleable__content\"><pre>RandomizedSearchCV(cv=5, estimator=RandomForestClassifier(), n_iter=20,\n",
       "                   param_distributions={&#x27;max_depth&#x27;: [None, 3, 5, 10],\n",
       "                                        &#x27;min_samples_leaf&#x27;: array([ 1,  3,  5,  7,  9, 11, 13, 15, 17, 19]),\n",
       "                                        &#x27;min_samples_split&#x27;: array([ 2,  4,  6,  8, 10, 12, 14, 16, 18]),\n",
       "                                        &#x27;n_estimators&#x27;: array([ 10,  60, 110, 160, 210, 260, 310, 360, 410, 460, 510, 560, 610,\n",
       "       660, 710, 760, 810, 860, 910, 960])},\n",
       "                   verbose=True)</pre></div></div></div><div class=\"sk-parallel\"><div class=\"sk-parallel-item\"><div class=\"sk-item\"><div class=\"sk-label-container\"><div class=\"sk-label sk-toggleable\"><input class=\"sk-toggleable__control sk-hidden--visually\" id=\"sk-estimator-id-5\" type=\"checkbox\" ><label for=\"sk-estimator-id-5\" class=\"sk-toggleable__label sk-toggleable__label-arrow\">estimator: RandomForestClassifier</label><div class=\"sk-toggleable__content\"><pre>RandomForestClassifier()</pre></div></div></div><div class=\"sk-serial\"><div class=\"sk-item\"><div class=\"sk-estimator sk-toggleable\"><input class=\"sk-toggleable__control sk-hidden--visually\" id=\"sk-estimator-id-6\" type=\"checkbox\" ><label for=\"sk-estimator-id-6\" class=\"sk-toggleable__label sk-toggleable__label-arrow\">RandomForestClassifier</label><div class=\"sk-toggleable__content\"><pre>RandomForestClassifier()</pre></div></div></div></div></div></div></div></div></div></div>"
      ],
      "text/plain": [
       "RandomizedSearchCV(cv=5, estimator=RandomForestClassifier(), n_iter=20,\n",
       "                   param_distributions={'max_depth': [None, 3, 5, 10],\n",
       "                                        'min_samples_leaf': array([ 1,  3,  5,  7,  9, 11, 13, 15, 17, 19]),\n",
       "                                        'min_samples_split': array([ 2,  4,  6,  8, 10, 12, 14, 16, 18]),\n",
       "                                        'n_estimators': array([ 10,  60, 110, 160, 210, 260, 310, 360, 410, 460, 510, 560, 610,\n",
       "       660, 710, 760, 810, 860, 910, 960])},\n",
       "                   verbose=True)"
      ]
     },
     "execution_count": 11,
     "metadata": {},
     "output_type": "execute_result"
    }
   ],
   "source": [
    "# Tune Random Forest classifier\n",
    "np.random.seed(42)\n",
    "\n",
    "rs_rf = RandomizedSearchCV(RandomForestClassifier(),\n",
    "                          param_distributions = rf_grid,\n",
    "                          cv = 5,\n",
    "                          n_iter = 20,\n",
    "                          verbose = True)\n",
    "\n",
    "rs_rf.fit(X_train, y_train)"
   ]
  },
  {
   "cell_type": "code",
   "execution_count": 12,
   "id": "76844b75",
   "metadata": {},
   "outputs": [
    {
     "data": {
      "text/plain": [
       "{'n_estimators': 510,\n",
       " 'min_samples_split': 14,\n",
       " 'min_samples_leaf': 1,\n",
       " 'max_depth': None}"
      ]
     },
     "execution_count": 12,
     "metadata": {},
     "output_type": "execute_result"
    }
   ],
   "source": [
    "rs_rf.best_params_"
   ]
  },
  {
   "cell_type": "code",
   "execution_count": 13,
   "id": "0e90901c",
   "metadata": {},
   "outputs": [
    {
     "data": {
      "text/plain": [
       "0.926829268292683"
      ]
     },
     "execution_count": 13,
     "metadata": {},
     "output_type": "execute_result"
    }
   ],
   "source": [
    "rs_rf.score(X_test, y_test)"
   ]
  },
  {
   "cell_type": "code",
   "execution_count": 14,
   "id": "df0754ee",
   "metadata": {},
   "outputs": [],
   "source": [
    "y_preds = rs_rf.predict(X_test)"
   ]
  },
  {
   "cell_type": "code",
   "execution_count": 15,
   "id": "6d3a4289",
   "metadata": {},
   "outputs": [],
   "source": [
    "# plot ROC curve and calculate AUC Metric\n",
    "fpr, tpr, threshold = roc_curve(y_preds, y_test)"
   ]
  },
  {
   "cell_type": "code",
   "execution_count": 16,
   "id": "5513b0b1",
   "metadata": {},
   "outputs": [
    {
     "data": {
      "image/png": "[encoded data removed]",
      "text/plain": [
       "<Figure size 300x300 with 1 Axes>"
      ]
     },
     "metadata": {},
     "output_type": "display_data"
    }
   ],
   "source": [
    "sns.set(font_scale = 1.5)\n",
    "def plot_conf_matr(y_preds, y_test):\n",
    "    fig, ax = plt.subplots(figsize = (3,3))\n",
    "    ax = sns.heatmap(confusion_matrix(y_test, y_preds),\n",
    "                    annot = True,\n",
    "                    cbar = False)\n",
    "    plt.xlabel(\"True Label\")\n",
    "    plt.ylabel(\"Predicted Label\")\n",
    "\n",
    "plot_conf_matr(y_preds, y_test)"
   ]
  },
  {
   "cell_type": "code",
   "execution_count": 17,
   "id": "94804a8e",
   "metadata": {},
   "outputs": [
    {
     "name": "stdout",
     "output_type": "stream",
     "text": [
      "              precision    recall  f1-score   support\n",
      "\n",
      "           0       0.91      0.94      0.93        99\n",
      "           1       0.94      0.92      0.93       106\n",
      "\n",
      "    accuracy                           0.93       205\n",
      "   macro avg       0.93      0.93      0.93       205\n",
      "weighted avg       0.93      0.93      0.93       205\n",
      "\n"
     ]
    }
   ],
   "source": [
    "print(classification_report(y_preds, y_test))"
   ]
  },
  {
   "cell_type": "code",
   "execution_count": 48,
   "id": "130b67bf",
   "metadata": {},
   "outputs": [],
   "source": [
    "clf = LogisticRegression(C = 0.204335,\n",
    "                        solver = \"liblinear\")"
   ]
  },
  {
   "cell_type": "code",
   "execution_count": 28,
   "id": "c155ffa3",
   "metadata": {},
   "outputs": [],
   "source": [
    "def cv_scores(clf, X, y):\n",
    "    cv_dict = {}\n",
    "    scores = [\"accuracy\", \"precision\", \"recall\", \"f1\"]\n",
    "    for score in scores:\n",
    "        result = cross_val_score(clf,\n",
    "               X,\n",
    "               y,\n",
    "               cv = 5,\n",
    "               scoring = score)\n",
    "        cv_dict[score] = np.mean(result)\n",
    "    return cv_dict"
   ]
  },
  {
   "cell_type": "code",
   "execution_count": 37,
   "id": "2a37cdf8",
   "metadata": {},
   "outputs": [],
   "source": [
    "cv_dict = cv_scores(clf, X, y)"
   ]
  },
  {
   "cell_type": "code",
   "execution_count": 43,
   "id": "52e06d1c",
   "metadata": {},
   "outputs": [
    {
     "data": {
      "image/png": "[encoded data removed]",
      "text/plain": [
       "<Figure size 640x480 with 1 Axes>"
      ]
     },
     "metadata": {},
     "output_type": "display_data"
    }
   ],
   "source": [
    "pd.DataFrame(cv_dict, index = [0]).T.plot.bar(title = \"Cross-validated classification metrics\",\n",
    "                                             legend = False);"
   ]
  },
  {
   "cell_type": "markdown",
   "id": "f60f2fcf",
   "metadata": {},
   "source": [
    "## Feature Importance\n",
    "\n",
    "which features affect the target more"
   ]
  },
  {
   "cell_type": "code",
   "execution_count": 45,
   "id": "681d899c",
   "metadata": {},
   "outputs": [
    {
     "data": {
      "text/html": [
       "<div>\n",
       "<style scoped>\n",
       "    .dataframe tbody tr th:only-of-type {\n",
       "        vertical-align: middle;\n",
       "    }\n",
       "\n",
       "    .dataframe tbody tr th {\n",
       "        vertical-align: top;\n",
       "    }\n",
       "\n",
       "    .dataframe thead th {\n",
       "        text-align: right;\n",
       "    }\n",
       "</style>\n",
       "<table border=\"1\" class=\"dataframe\">\n",
       "  <thead>\n",
       "    <tr style=\"text-align: right;\">\n",
       "      <th></th>\n",
       "      <th>age</th>\n",
       "      <th>sex</th>\n",
       "      <th>chest_pain_type</th>\n",
       "      <th>resting_blood_pressure</th>\n",
       "      <th>cholestoral</th>\n",
       "      <th>fasting_blood_sugar</th>\n",
       "      <th>rest_ecg</th>\n",
       "      <th>Max_heart_rate</th>\n",
       "      <th>exercise_induced_angina</th>\n",
       "      <th>oldpeak</th>\n",
       "      <th>slope</th>\n",
       "      <th>vessels_colored_by_flourosopy</th>\n",
       "      <th>thalassemia</th>\n",
       "      <th>target</th>\n",
       "    </tr>\n",
       "  </thead>\n",
       "  <tbody>\n",
       "    <tr>\n",
       "      <th>0</th>\n",
       "      <td>52</td>\n",
       "      <td>1</td>\n",
       "      <td>3</td>\n",
       "      <td>125</td>\n",
       "      <td>212</td>\n",
       "      <td>0</td>\n",
       "      <td>2</td>\n",
       "      <td>168</td>\n",
       "      <td>0</td>\n",
       "      <td>1.0</td>\n",
       "      <td>0</td>\n",
       "      <td>3</td>\n",
       "      <td>3</td>\n",
       "      <td>0</td>\n",
       "    </tr>\n",
       "    <tr>\n",
       "      <th>1</th>\n",
       "      <td>53</td>\n",
       "      <td>1</td>\n",
       "      <td>3</td>\n",
       "      <td>140</td>\n",
       "      <td>203</td>\n",
       "      <td>1</td>\n",
       "      <td>1</td>\n",
       "      <td>155</td>\n",
       "      <td>1</td>\n",
       "      <td>3.1</td>\n",
       "      <td>2</td>\n",
       "      <td>4</td>\n",
       "      <td>3</td>\n",
       "      <td>0</td>\n",
       "    </tr>\n",
       "    <tr>\n",
       "      <th>2</th>\n",
       "      <td>70</td>\n",
       "      <td>1</td>\n",
       "      <td>3</td>\n",
       "      <td>145</td>\n",
       "      <td>174</td>\n",
       "      <td>0</td>\n",
       "      <td>2</td>\n",
       "      <td>125</td>\n",
       "      <td>1</td>\n",
       "      <td>2.6</td>\n",
       "      <td>2</td>\n",
       "      <td>4</td>\n",
       "      <td>3</td>\n",
       "      <td>0</td>\n",
       "    </tr>\n",
       "    <tr>\n",
       "      <th>3</th>\n",
       "      <td>61</td>\n",
       "      <td>1</td>\n",
       "      <td>3</td>\n",
       "      <td>148</td>\n",
       "      <td>203</td>\n",
       "      <td>0</td>\n",
       "      <td>2</td>\n",
       "      <td>161</td>\n",
       "      <td>0</td>\n",
       "      <td>0.0</td>\n",
       "      <td>0</td>\n",
       "      <td>1</td>\n",
       "      <td>3</td>\n",
       "      <td>0</td>\n",
       "    </tr>\n",
       "    <tr>\n",
       "      <th>4</th>\n",
       "      <td>62</td>\n",
       "      <td>0</td>\n",
       "      <td>3</td>\n",
       "      <td>138</td>\n",
       "      <td>294</td>\n",
       "      <td>1</td>\n",
       "      <td>2</td>\n",
       "      <td>106</td>\n",
       "      <td>0</td>\n",
       "      <td>1.9</td>\n",
       "      <td>1</td>\n",
       "      <td>2</td>\n",
       "      <td>0</td>\n",
       "      <td>0</td>\n",
       "    </tr>\n",
       "  </tbody>\n",
       "</table>\n",
       "</div>"
      ],
      "text/plain": [
       "   age  sex  chest_pain_type  resting_blood_pressure  cholestoral  \\\n",
       "0   52    1                3                     125          212   \n",
       "1   53    1                3                     140          203   \n",
       "2   70    1                3                     145          174   \n",
       "3   61    1                3                     148          203   \n",
       "4   62    0                3                     138          294   \n",
       "\n",
       "   fasting_blood_sugar  rest_ecg  Max_heart_rate  exercise_induced_angina  \\\n",
       "0                    0         2             168                        0   \n",
       "1                    1         1             155                        1   \n",
       "2                    0         2             125                        1   \n",
       "3                    0         2             161                        0   \n",
       "4                    1         2             106                        0   \n",
       "\n",
       "   oldpeak  slope  vessels_colored_by_flourosopy  thalassemia  target  \n",
       "0      1.0      0                              3            3       0  \n",
       "1      3.1      2                              4            3       0  \n",
       "2      2.6      2                              4            3       0  \n",
       "3      0.0      0                              1            3       0  \n",
       "4      1.9      1                              2            0       0  "
      ]
     },
     "execution_count": 45,
     "metadata": {},
     "output_type": "execute_result"
    }
   ],
   "source": [
    "df_tmp.head()"
   ]
  },
  {
   "cell_type": "code",
   "execution_count": 57,
   "id": "d85a0adb",
   "metadata": {},
   "outputs": [],
   "source": [
    "clf.fit(X_train, y_train)\n",
    "coeff = clf.coef_"
   ]
  },
  {
   "cell_type": "code",
   "execution_count": 54,
   "id": "03530d30",
   "metadata": {},
   "outputs": [
    {
     "data": {
      "text/html": [
       "<div>\n",
       "<style scoped>\n",
       "    .dataframe tbody tr th:only-of-type {\n",
       "        vertical-align: middle;\n",
       "    }\n",
       "\n",
       "    .dataframe tbody tr th {\n",
       "        vertical-align: top;\n",
       "    }\n",
       "\n",
       "    .dataframe thead th {\n",
       "        text-align: right;\n",
       "    }\n",
       "</style>\n",
       "<table border=\"1\" class=\"dataframe\">\n",
       "  <thead>\n",
       "    <tr style=\"text-align: right;\">\n",
       "      <th></th>\n",
       "      <th>age</th>\n",
       "      <th>sex</th>\n",
       "      <th>chest_pain_type</th>\n",
       "      <th>resting_blood_pressure</th>\n",
       "      <th>cholestoral</th>\n",
       "      <th>fasting_blood_sugar</th>\n",
       "      <th>rest_ecg</th>\n",
       "      <th>Max_heart_rate</th>\n",
       "      <th>exercise_induced_angina</th>\n",
       "      <th>oldpeak</th>\n",
       "      <th>slope</th>\n",
       "      <th>vessels_colored_by_flourosopy</th>\n",
       "      <th>thalassemia</th>\n",
       "    </tr>\n",
       "  </thead>\n",
       "  <tbody>\n",
       "    <tr>\n",
       "      <th>835</th>\n",
       "      <td>49</td>\n",
       "      <td>1</td>\n",
       "      <td>2</td>\n",
       "      <td>118</td>\n",
       "      <td>149</td>\n",
       "      <td>0</td>\n",
       "      <td>1</td>\n",
       "      <td>126</td>\n",
       "      <td>0</td>\n",
       "      <td>0.8</td>\n",
       "      <td>0</td>\n",
       "      <td>2</td>\n",
       "      <td>0</td>\n",
       "    </tr>\n",
       "    <tr>\n",
       "      <th>137</th>\n",
       "      <td>64</td>\n",
       "      <td>0</td>\n",
       "      <td>3</td>\n",
       "      <td>180</td>\n",
       "      <td>325</td>\n",
       "      <td>0</td>\n",
       "      <td>2</td>\n",
       "      <td>154</td>\n",
       "      <td>1</td>\n",
       "      <td>0.0</td>\n",
       "      <td>0</td>\n",
       "      <td>4</td>\n",
       "      <td>0</td>\n",
       "    </tr>\n",
       "    <tr>\n",
       "      <th>534</th>\n",
       "      <td>54</td>\n",
       "      <td>0</td>\n",
       "      <td>2</td>\n",
       "      <td>108</td>\n",
       "      <td>267</td>\n",
       "      <td>0</td>\n",
       "      <td>1</td>\n",
       "      <td>167</td>\n",
       "      <td>0</td>\n",
       "      <td>0.0</td>\n",
       "      <td>0</td>\n",
       "      <td>4</td>\n",
       "      <td>0</td>\n",
       "    </tr>\n",
       "    <tr>\n",
       "      <th>495</th>\n",
       "      <td>59</td>\n",
       "      <td>1</td>\n",
       "      <td>3</td>\n",
       "      <td>135</td>\n",
       "      <td>234</td>\n",
       "      <td>0</td>\n",
       "      <td>2</td>\n",
       "      <td>161</td>\n",
       "      <td>0</td>\n",
       "      <td>0.5</td>\n",
       "      <td>1</td>\n",
       "      <td>4</td>\n",
       "      <td>3</td>\n",
       "    </tr>\n",
       "    <tr>\n",
       "      <th>244</th>\n",
       "      <td>51</td>\n",
       "      <td>1</td>\n",
       "      <td>2</td>\n",
       "      <td>125</td>\n",
       "      <td>245</td>\n",
       "      <td>1</td>\n",
       "      <td>1</td>\n",
       "      <td>166</td>\n",
       "      <td>0</td>\n",
       "      <td>2.4</td>\n",
       "      <td>1</td>\n",
       "      <td>4</td>\n",
       "      <td>0</td>\n",
       "    </tr>\n",
       "  </tbody>\n",
       "</table>\n",
       "</div>"
      ],
      "text/plain": [
       "     age  sex  chest_pain_type  resting_blood_pressure  cholestoral  \\\n",
       "835   49    1                2                     118          149   \n",
       "137   64    0                3                     180          325   \n",
       "534   54    0                2                     108          267   \n",
       "495   59    1                3                     135          234   \n",
       "244   51    1                2                     125          245   \n",
       "\n",
       "     fasting_blood_sugar  rest_ecg  Max_heart_rate  exercise_induced_angina  \\\n",
       "835                    0         1             126                        0   \n",
       "137                    0         2             154                        1   \n",
       "534                    0         1             167                        0   \n",
       "495                    0         2             161                        0   \n",
       "244                    1         1             166                        0   \n",
       "\n",
       "     oldpeak  slope  vessels_colored_by_flourosopy  thalassemia  \n",
       "835      0.8      0                              2            0  \n",
       "137      0.0      0                              4            0  \n",
       "534      0.0      0                              4            0  \n",
       "495      0.5      1                              4            3  \n",
       "244      2.4      1                              4            0  "
      ]
     },
     "execution_count": 54,
     "metadata": {},
     "output_type": "execute_result"
    }
   ],
   "source": [
    "X_train.head()"
   ]
  },
  {
   "cell_type": "code",
   "execution_count": 55,
   "id": "5a5894ee",
   "metadata": {},
   "outputs": [
    {
     "data": {
      "text/plain": [
       "(820, 13)"
      ]
     },
     "execution_count": 55,
     "metadata": {},
     "output_type": "execute_result"
    }
   ],
   "source": [
    "X_train.shape"
   ]
  },
  {
   "cell_type": "code",
   "execution_count": 59,
   "id": "f473fb64",
   "metadata": {},
   "outputs": [
    {
     "data": {
      "text/plain": [
       "array([[ 0.0120579 , -0.84865131, -0.64076946, -0.01140689, -0.0075915 ,\n",
       "         0.05952557,  0.34112276,  0.02691288, -0.59412463, -0.62832784,\n",
       "        -0.21732095,  0.53648467, -0.53651493]])"
      ]
     },
     "execution_count": 59,
     "metadata": {},
     "output_type": "execute_result"
    }
   ],
   "source": [
    "coeff"
   ]
  },
  {
   "cell_type": "code",
   "execution_count": 60,
   "id": "0ed5189f",
   "metadata": {},
   "outputs": [
    {
     "data": {
      "text/plain": [
       "(1, 13)"
      ]
     },
     "execution_count": 60,
     "metadata": {},
     "output_type": "execute_result"
    }
   ],
   "source": [
    "coeff.shape"
   ]
  },
  {
   "cell_type": "code",
   "execution_count": 61,
   "id": "caff8291",
   "metadata": {},
   "outputs": [],
   "source": [
    "feature_dict = dict(zip(X_train.columns , coeff[0]))"
   ]
  },
  {
   "cell_type": "code",
   "execution_count": 62,
   "id": "6b54e313",
   "metadata": {},
   "outputs": [
    {
     "data": {
      "text/plain": [
       "{'age': 0.012057902394986565,\n",
       " 'sex': -0.8486513089797447,\n",
       " 'chest_pain_type': -0.6407694618686808,\n",
       " 'resting_blood_pressure': -0.011406892717140871,\n",
       " 'cholestoral': -0.007591502091255966,\n",
       " 'fasting_blood_sugar': 0.05952557019358572,\n",
       " 'rest_ecg': 0.34112275552798815,\n",
       " 'Max_heart_rate': 0.02691287872673031,\n",
       " 'exercise_induced_angina': -0.5941246263812009,\n",
       " 'oldpeak': -0.6283278383568461,\n",
       " 'slope': -0.21732094934528873,\n",
       " 'vessels_colored_by_flourosopy': 0.5364846708346208,\n",
       " 'thalassemia': -0.5365149278939102}"
      ]
     },
     "execution_count": 62,
     "metadata": {},
     "output_type": "execute_result"
    }
   ],
   "source": [
    "feature_dict"
   ]
  },
  {
   "cell_type": "code",
   "execution_count": 63,
   "id": "fc3c0a12",
   "metadata": {},
   "outputs": [],
   "source": [
    "feature_df = pd.DataFrame(feature_dict, index = [0])"
   ]
  },
  {
   "cell_type": "code",
   "execution_count": 65,
   "id": "c9c4ce5e",
   "metadata": {},
   "outputs": [
    {
     "data": {
      "image/png": "[encoded data removed]",
      "text/plain": [
       "<Figure size 640x480 with 1 Axes>"
      ]
     },
     "metadata": {},
     "output_type": "display_data"
    }
   ],
   "source": [
    "feature_df.T.plot.bar();"
   ]
  },
  {
   "cell_type": "code",
   "execution_count": null,
   "id": "7e181b80",
   "metadata": {},
   "outputs": [],
   "source": []
  }
 ],
 "metadata": {
  "kernelspec": {
   "display_name": "Python 3 (ipykernel)",
   "language": "python",
   "name": "python3"
  },
  "language_info": {
   "codemirror_mode": {
    "name": "ipython",
    "version": 3
   },
   "file_extension": ".py",
   "mimetype": "text/x-python",
   "name": "python",
   "nbconvert_exporter": "python",
   "pygments_lexer": "ipython3",
   "version": "3.11.2"
  }
 },
 "nbformat": 4,
 "nbformat_minor": 5
}
